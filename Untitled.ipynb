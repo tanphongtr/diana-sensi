{
 "cells": [
  {
   "cell_type": "code",
   "execution_count": 21,
   "id": "9105eb84",
   "metadata": {},
   "outputs": [
    {
     "name": "stdout",
     "output_type": "stream",
     "text": [
      "CPU times: user 374 ms, sys: 1.71 ms, total: 376 ms\n",
      "Wall time: 376 ms\n",
      "CPU times: user 623 ms, sys: 35.3 ms, total: 658 ms\n",
      "Wall time: 675 ms\n",
      "CPU times: user 5.77 s, sys: 159 ms, total: 5.93 s\n",
      "Wall time: 6.25 s\n",
      "7.347457999999733\n"
     ]
    }
   ],
   "source": [
    "from faker import Faker\n",
    "import time\n",
    "\n",
    "import pandas as pd\n",
    "\n",
    "start_t = time.perf_counter()\n",
    "\n",
    "faker = Faker(\"en_GB\")\n",
    "\n",
    "%time contact = [faker.profile() for i in range(0, 1000)]\n",
    "contact = contact*1000\n",
    "\n",
    "%time df = pd.DataFrame(contact)\n",
    "\n",
    "%time df.to_csv('output.csv')\n",
    "\n",
    "\n",
    "print(f'{time.perf_counter()-start_t} seconds')"
   ]
  },
  {
   "cell_type": "code",
   "execution_count": 30,
   "id": "fb68335b",
   "metadata": {},
   "outputs": [
    {
     "ename": "TypeError",
     "evalue": "'map' object is not subscriptable",
     "output_type": "error",
     "traceback": [
      "\u001b[0;31m---------------------------------------------------------------------------\u001b[0m",
      "\u001b[0;31mTypeError\u001b[0m                                 Traceback (most recent call last)",
      "Input \u001b[0;32mIn [30]\u001b[0m, in \u001b[0;36m<module>\u001b[0;34m\u001b[0m\n\u001b[1;32m      9\u001b[0m numbers \u001b[38;5;241m=\u001b[39m (\u001b[38;5;241m1\u001b[39m, \u001b[38;5;241m2\u001b[39m, \u001b[38;5;241m3\u001b[39m, \u001b[38;5;241m4\u001b[39m)\n\u001b[1;32m     10\u001b[0m result \u001b[38;5;241m=\u001b[39m \u001b[38;5;28mmap\u001b[39m(addition, numbers)\n\u001b[0;32m---> 11\u001b[0m \u001b[38;5;28mprint\u001b[39m(\u001b[43mresult\u001b[49m\u001b[43m[\u001b[49m\u001b[38;5;241;43m3\u001b[39;49m\u001b[43m]\u001b[49m)\n",
      "\u001b[0;31mTypeError\u001b[0m: 'map' object is not subscriptable"
     ]
    }
   ],
   "source": [
    "\n",
    "# Python program to demonstrate working\n",
    "# of map.\n",
    "  \n",
    "# Return double of n\n",
    "def addition(n):\n",
    "    return n + n\n",
    "  \n",
    "# We double all numbers using map()\n",
    "numbers = (1, 2, 3, 4)\n",
    "result = map(addition, numbers)\n"
   ]
  },
  {
   "cell_type": "code",
   "execution_count": null,
   "id": "9ea311b1",
   "metadata": {},
   "outputs": [],
   "source": []
  }
 ],
 "metadata": {
  "kernelspec": {
   "display_name": "Python 3 (ipykernel)",
   "language": "python",
   "name": "python3"
  },
  "language_info": {
   "codemirror_mode": {
    "name": "ipython",
    "version": 3
   },
   "file_extension": ".py",
   "mimetype": "text/x-python",
   "name": "python",
   "nbconvert_exporter": "python",
   "pygments_lexer": "ipython3",
   "version": "3.8.9"
  }
 },
 "nbformat": 4,
 "nbformat_minor": 5
}
